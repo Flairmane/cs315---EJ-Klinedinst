{
  "nbformat": 4,
  "nbformat_minor": 0,
  "metadata": {
    "colab": {
      "provenance": [],
      "authorship_tag": "ABX9TyMYK3PxImgbZpDn6aXrkvCD",
      "include_colab_link": true
    },
    "kernelspec": {
      "name": "python3",
      "display_name": "Python 3"
    },
    "language_info": {
      "name": "python"
    }
  },
  "cells": [
    {
      "cell_type": "markdown",
      "metadata": {
        "id": "view-in-github",
        "colab_type": "text"
      },
      "source": [
        "<a href=\"https://colab.research.google.com/github/Flairmane/cs315---EJ-Klinedinst/blob/main/Homework%206%20Question%203.ipynb\" target=\"_parent\"><img src=\"https://colab.research.google.com/assets/colab-badge.svg\" alt=\"Open In Colab\"/></a>"
      ]
    },
    {
      "cell_type": "code",
      "execution_count": 3,
      "metadata": {
        "id": "aF92J46BU2wm"
      },
      "outputs": [],
      "source": [
        "def CountingSort(A,B,k):\n",
        "  #let C[0..k] be a new array\n",
        "  C = C[k]\n",
        "  for i in range(0, k):\n",
        "      C[i]==0\n",
        "  for j in range(1, A.length):\n",
        "    C[ A[j] ] = C[ A[j] ] + 1\n",
        "  #// C[i] now contains # of elements equal to i\n",
        "  for i in range(1, k):\n",
        "    C[i] = C[i] + C[i-1]\n",
        "  #// C[i] now contains # of elements less than or equal to i\n",
        "  for j in range(A.length, 1, -1):\n",
        "    B[ C[ A[j] ] ] = A[j]\n",
        "    C[ A[j] ] = C[ A[j] ] - 1\n"
      ]
    },
    {
      "cell_type": "code",
      "source": [],
      "metadata": {
        "id": "I-V90euAXKBM"
      },
      "execution_count": null,
      "outputs": []
    }
  ]
}