{
  "nbformat": 4,
  "nbformat_minor": 0,
  "metadata": {
    "colab": {
      "provenance": [],
      "authorship_tag": "ABX9TyOycTRTfMEuR+Jf8M8EOlu2",
      "include_colab_link": true
    },
    "kernelspec": {
      "name": "python3",
      "display_name": "Python 3"
    },
    "language_info": {
      "name": "python"
    }
  },
  "cells": [
    {
      "cell_type": "markdown",
      "metadata": {
        "id": "view-in-github",
        "colab_type": "text"
      },
      "source": [
        "<a href=\"https://colab.research.google.com/github/Flairmane/cs315---EJ-Klinedinst/blob/main/Homework%206%20Code.ipynb\" target=\"_parent\"><img src=\"https://colab.research.google.com/assets/colab-badge.svg\" alt=\"Open In Colab\"/></a>"
      ]
    },
    {
      "cell_type": "code",
      "execution_count": 8,
      "metadata": {
        "id": "Bn8BfA9q6alk"
      },
      "outputs": [],
      "source": [
        "import random\n",
        "import time\n",
        "import math\n",
        "def quickselect(A, i):\n",
        "    if len(A) == 1:\n",
        "        return A[0]\n",
        "    pivot = random.choice(A)\n",
        "    lows = [x for x in A if x < pivot]\n",
        "    highs = [x for x in A if x > pivot]\n",
        "    pivots = [x for x in A if x == pivot]\n",
        "    if i <= len(lows):\n",
        "        return quickselect(lows, i)\n",
        "    elif i <= len(lows) + len(pivots):\n",
        "        return pivot\n",
        "    else:\n",
        "        return quickselect(highs, i - len(lows) - len(pivots))"
      ]
    },
    {
      "cell_type": "code",
      "source": [
        "for i in range(1,8):\n",
        "  N = int(math.pow(10,i))\n",
        "  A = list(range( N ) )\n",
        "  random.shuffle(A)\n",
        "  #print(A)\n",
        "  start = time.time()\n",
        "  B=quickselect(A, i)\n",
        "  end = time.time()\n",
        "  ratio=(end-start)/(N*math.log2(N))\n",
        "  print(N,end-start,ratio)\n",
        "  #print(B)"
      ],
      "metadata": {
        "colab": {
          "base_uri": "https://localhost:8080/"
        },
        "id": "6G_L7BNi6z2i",
        "outputId": "3861c673-906e-4e71-cf59-13553629a963"
      },
      "execution_count": 9,
      "outputs": [
        {
          "output_type": "stream",
          "name": "stdout",
          "text": [
            "10 1.1682510375976562e-05 3.51678604782464e-07\n",
            "100 4.267692565917969e-05 6.423517373067455e-08\n",
            "1000 0.000308990478515625 3.100513413592335e-08\n",
            "10000 0.002193927764892578 1.6510951638817517e-08\n",
            "100000 0.04043436050415039 2.434391073448049e-08\n",
            "1000000 0.44350457191467285 2.22513632267383e-08\n",
            "10000000 7.3482794761657715 3.1600750554970064e-08\n"
          ]
        }
      ]
    }
  ]
}