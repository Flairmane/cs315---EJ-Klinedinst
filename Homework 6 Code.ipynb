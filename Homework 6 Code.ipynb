{
  "nbformat": 4,
  "nbformat_minor": 0,
  "metadata": {
    "colab": {
      "provenance": [],
      "authorship_tag": "ABX9TyPV9Xm1yyBPEhdMfLw99F3S",
      "include_colab_link": true
    },
    "kernelspec": {
      "name": "python3",
      "display_name": "Python 3"
    },
    "language_info": {
      "name": "python"
    }
  },
  "cells": [
    {
      "cell_type": "markdown",
      "metadata": {
        "id": "view-in-github",
        "colab_type": "text"
      },
      "source": [
        "<a href=\"https://colab.research.google.com/github/Flairmane/cs315---EJ-Klinedinst/blob/main/Homework%206%20Code.ipynb\" target=\"_parent\"><img src=\"https://colab.research.google.com/assets/colab-badge.svg\" alt=\"Open In Colab\"/></a>"
      ]
    },
    {
      "cell_type": "code",
      "execution_count": 2,
      "metadata": {
        "id": "Bn8BfA9q6alk"
      },
      "outputs": [],
      "source": [
        "import random\n",
        "import time\n",
        "import math\n",
        "def quickselect(A, i):\n",
        "    if len(A) == 1:\n",
        "        return A[0]\n",
        "    pivot = random.choice(A)\n",
        "    lows = [x for x in A if x < pivot]\n",
        "    highs = [x for x in A if x > pivot]\n",
        "    pivots = [x for x in A if x == pivot]\n",
        "    if i <= len(lows):\n",
        "        return quickselect(lows, i)\n",
        "    elif i <= len(lows) + len(pivots):\n",
        "        return pivot\n",
        "    else:\n",
        "        return quickselect(highs, i - len(lows) - len(pivots))"
      ]
    },
    {
      "cell_type": "code",
      "source": [
        "for i in range(1,8):\n",
        "  N = int(math.pow(10,i))\n",
        "  A = []\n",
        "  for i in range(N):\n",
        "    A.append(random.randint(0, 50))\n",
        "  #print(A)\n",
        "  start = time.time()\n",
        "  B=quickselect(A, i)\n",
        "  end = time.time()\n",
        "  ratio=(end-start)/(N*math.log2(N))\n",
        "  print(N,end-start,ratio)\n",
        "  #print(B)"
      ],
      "metadata": {
        "colab": {
          "base_uri": "https://localhost:8080/"
        },
        "id": "6G_L7BNi6z2i",
        "outputId": "794cce11-bea4-477f-f8da-dae0d6d2261f"
      },
      "execution_count": 4,
      "outputs": [
        {
          "output_type": "stream",
          "name": "stdout",
          "text": [
            "10 1.049041748046875e-05 3.1579303286588603e-07\n",
            "100 1.8835067749023438e-05 2.834960181409659e-08\n",
            "1000 0.0003020763397216797 3.0311346412202843e-08\n",
            "10000 0.0012710094451904297 9.565299194363855e-09\n",
            "100000 0.014079809188842773 8.476889798134046e-09\n",
            "1000000 0.17093253135681152 8.575969862195717e-09\n",
            "10000000 1.5622868537902832 6.718502926034054e-09\n"
          ]
        }
      ]
    }
  ]
}